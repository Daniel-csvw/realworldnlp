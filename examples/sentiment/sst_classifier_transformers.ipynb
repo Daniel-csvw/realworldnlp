{
 "cells": [
  {
   "cell_type": "code",
   "execution_count": null,
   "metadata": {
    "scrolled": true
   },
   "outputs": [],
   "source": [
    "!pip install transformers==3.0.2"
   ]
  },
  {
   "cell_type": "code",
   "execution_count": null,
   "metadata": {},
   "outputs": [],
   "source": [
    "import re\n",
    "\n",
    "import torch\n",
    "from transformers import AutoTokenizer"
   ]
  },
  {
   "cell_type": "code",
   "execution_count": null,
   "metadata": {},
   "outputs": [],
   "source": [
    "tokenizer = AutoTokenizer.from_pretrained('bert-base-cased')"
   ]
  },
  {
   "cell_type": "code",
   "execution_count": null,
   "metadata": {},
   "outputs": [],
   "source": [
    "token_ids = tokenizer.encode('The best movie ever!')"
   ]
  },
  {
   "cell_type": "code",
   "execution_count": null,
   "metadata": {},
   "outputs": [],
   "source": [
    "token_ids"
   ]
  },
  {
   "cell_type": "code",
   "execution_count": null,
   "metadata": {},
   "outputs": [],
   "source": [
    "tokenizer.decode(token_ids)"
   ]
  },
  {
   "cell_type": "code",
   "execution_count": null,
   "metadata": {},
   "outputs": [],
   "source": [
    "!curl https://s3.amazonaws.com/realworldnlpbook/data/stanfordSentimentTreebank/trees/dev.txt --output dev.txt"
   ]
  },
  {
   "cell_type": "code",
   "execution_count": null,
   "metadata": {},
   "outputs": [],
   "source": [
    "def read_dataset(file_path, batch_size, tokenizer, max_length):\n",
    "    batches = []\n",
    "    with open(file_path) as f:\n",
    "        texts = []\n",
    "        labels = []\n",
    "        for line in f:\n",
    "            text = line.strip()\n",
    "            label = int(text[1])\n",
    "            text = re.sub('\\)+', '', re.sub('\\(\\d ', '', text))\n",
    "            text = text.replace('-LRB-', '(').replace('-RRB-', ')')\n",
    "            \n",
    "            texts.append(text)\n",
    "            labels.append(label)\n",
    "\n",
    "            if len(texts) == batch_size:\n",
    "                batch = tokenizer(\n",
    "                    texts,\n",
    "                    max_length=max_length,\n",
    "                    pad_to_max_length=True,\n",
    "                    truncation=True,\n",
    "                    return_tensors='pt')\n",
    "                batch['labels'] = torch.tensor(labels, dtype=torch.int32)\n",
    "                batches.append(batch)\n",
    "                \n",
    "                texts = []\n",
    "                labels = []\n",
    "        \n",
    "        if texts:\n",
    "            batch = tokenizer(\n",
    "                texts,\n",
    "                max_length=max_length,\n",
    "                pad_to_max_length=True,\n",
    "                truncation=True,\n",
    "                return_tensors='pt')\n",
    "            batch['labels'] = torch.tensor(labels)\n",
    "            batches.append(batch)\n",
    "\n",
    "        return batches"
   ]
  },
  {
   "cell_type": "code",
   "execution_count": null,
   "metadata": {},
   "outputs": [],
   "source": [
    "read_dataset('dev.txt', batch_size=32, tokenizer=tokenizer, max_length=128)"
   ]
  },
  {
   "cell_type": "code",
   "execution_count": null,
   "metadata": {},
   "outputs": [],
   "source": []
  }
 ],
 "metadata": {
  "kernelspec": {
   "display_name": "Python 3",
   "language": "python",
   "name": "python3"
  },
  "language_info": {
   "codemirror_mode": {
    "name": "ipython",
    "version": 3
   },
   "file_extension": ".py",
   "mimetype": "text/x-python",
   "name": "python",
   "nbconvert_exporter": "python",
   "pygments_lexer": "ipython3",
   "version": "3.6.9"
  }
 },
 "nbformat": 4,
 "nbformat_minor": 4
}
